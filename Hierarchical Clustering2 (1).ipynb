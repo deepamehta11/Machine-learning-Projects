{
 "cells": [
  {
   "cell_type": "code",
   "execution_count": 29,
   "metadata": {},
   "outputs": [],
   "source": [
    "import pandas as pd\n"
   ]
  },
  {
   "cell_type": "code",
   "execution_count": 53,
   "metadata": {},
   "outputs": [],
   "source": [
    "df= pd.read_csv('google_review_ratings.csv')"
   ]
  },
  {
   "cell_type": "code",
   "execution_count": 54,
   "metadata": {},
   "outputs": [
    {
     "data": {
      "text/html": [
       "<div>\n",
       "<style scoped>\n",
       "    .dataframe tbody tr th:only-of-type {\n",
       "        vertical-align: middle;\n",
       "    }\n",
       "\n",
       "    .dataframe tbody tr th {\n",
       "        vertical-align: top;\n",
       "    }\n",
       "\n",
       "    .dataframe thead th {\n",
       "        text-align: right;\n",
       "    }\n",
       "</style>\n",
       "<table border=\"1\" class=\"dataframe\">\n",
       "  <thead>\n",
       "    <tr style=\"text-align: right;\">\n",
       "      <th></th>\n",
       "      <th>User</th>\n",
       "      <th>Category 1</th>\n",
       "      <th>Category 2</th>\n",
       "      <th>Category 3</th>\n",
       "      <th>Category 4</th>\n",
       "      <th>Category 5</th>\n",
       "      <th>Category 6</th>\n",
       "      <th>Category 7</th>\n",
       "      <th>Category 8</th>\n",
       "      <th>Category 9</th>\n",
       "      <th>...</th>\n",
       "      <th>Category 16</th>\n",
       "      <th>Category 17</th>\n",
       "      <th>Category 18</th>\n",
       "      <th>Category 19</th>\n",
       "      <th>Category 20</th>\n",
       "      <th>Category 21</th>\n",
       "      <th>Category 22</th>\n",
       "      <th>Category 23</th>\n",
       "      <th>Category 24</th>\n",
       "      <th>Unnamed: 25</th>\n",
       "    </tr>\n",
       "  </thead>\n",
       "  <tbody>\n",
       "    <tr>\n",
       "      <th>0</th>\n",
       "      <td>User 1</td>\n",
       "      <td>0.00</td>\n",
       "      <td>0.00</td>\n",
       "      <td>3.63</td>\n",
       "      <td>3.65</td>\n",
       "      <td>5.00</td>\n",
       "      <td>2.92</td>\n",
       "      <td>5.00</td>\n",
       "      <td>2.35</td>\n",
       "      <td>2.33</td>\n",
       "      <td>...</td>\n",
       "      <td>0.59</td>\n",
       "      <td>0.50</td>\n",
       "      <td>0.00</td>\n",
       "      <td>0.50</td>\n",
       "      <td>0.00</td>\n",
       "      <td>0.00</td>\n",
       "      <td>0.0</td>\n",
       "      <td>0.0</td>\n",
       "      <td>0.00</td>\n",
       "      <td>NaN</td>\n",
       "    </tr>\n",
       "    <tr>\n",
       "      <th>1</th>\n",
       "      <td>User 2</td>\n",
       "      <td>0.00</td>\n",
       "      <td>0.00</td>\n",
       "      <td>3.63</td>\n",
       "      <td>3.65</td>\n",
       "      <td>5.00</td>\n",
       "      <td>2.92</td>\n",
       "      <td>5.00</td>\n",
       "      <td>2.64</td>\n",
       "      <td>2.33</td>\n",
       "      <td>...</td>\n",
       "      <td>0.59</td>\n",
       "      <td>0.50</td>\n",
       "      <td>0.00</td>\n",
       "      <td>0.50</td>\n",
       "      <td>0.00</td>\n",
       "      <td>0.00</td>\n",
       "      <td>0.0</td>\n",
       "      <td>0.0</td>\n",
       "      <td>0.00</td>\n",
       "      <td>NaN</td>\n",
       "    </tr>\n",
       "    <tr>\n",
       "      <th>2</th>\n",
       "      <td>User 3</td>\n",
       "      <td>0.00</td>\n",
       "      <td>0.00</td>\n",
       "      <td>3.63</td>\n",
       "      <td>3.63</td>\n",
       "      <td>5.00</td>\n",
       "      <td>2.92</td>\n",
       "      <td>5.00</td>\n",
       "      <td>2.64</td>\n",
       "      <td>2.33</td>\n",
       "      <td>...</td>\n",
       "      <td>0.59</td>\n",
       "      <td>0.50</td>\n",
       "      <td>0.00</td>\n",
       "      <td>0.50</td>\n",
       "      <td>0.00</td>\n",
       "      <td>0.00</td>\n",
       "      <td>0.0</td>\n",
       "      <td>0.0</td>\n",
       "      <td>0.00</td>\n",
       "      <td>NaN</td>\n",
       "    </tr>\n",
       "    <tr>\n",
       "      <th>3</th>\n",
       "      <td>User 4</td>\n",
       "      <td>0.00</td>\n",
       "      <td>0.50</td>\n",
       "      <td>3.63</td>\n",
       "      <td>3.63</td>\n",
       "      <td>5.00</td>\n",
       "      <td>2.92</td>\n",
       "      <td>5.00</td>\n",
       "      <td>2.35</td>\n",
       "      <td>2.33</td>\n",
       "      <td>...</td>\n",
       "      <td>0.59</td>\n",
       "      <td>0.50</td>\n",
       "      <td>0.00</td>\n",
       "      <td>0.50</td>\n",
       "      <td>0.00</td>\n",
       "      <td>0.00</td>\n",
       "      <td>0.0</td>\n",
       "      <td>0.0</td>\n",
       "      <td>0.00</td>\n",
       "      <td>NaN</td>\n",
       "    </tr>\n",
       "    <tr>\n",
       "      <th>4</th>\n",
       "      <td>User 5</td>\n",
       "      <td>0.00</td>\n",
       "      <td>0.00</td>\n",
       "      <td>3.63</td>\n",
       "      <td>3.63</td>\n",
       "      <td>5.00</td>\n",
       "      <td>2.92</td>\n",
       "      <td>5.00</td>\n",
       "      <td>2.64</td>\n",
       "      <td>2.33</td>\n",
       "      <td>...</td>\n",
       "      <td>0.59</td>\n",
       "      <td>0.50</td>\n",
       "      <td>0.00</td>\n",
       "      <td>0.50</td>\n",
       "      <td>0.00</td>\n",
       "      <td>0.00</td>\n",
       "      <td>0.0</td>\n",
       "      <td>0.0</td>\n",
       "      <td>0.00</td>\n",
       "      <td>NaN</td>\n",
       "    </tr>\n",
       "    <tr>\n",
       "      <th>...</th>\n",
       "      <td>...</td>\n",
       "      <td>...</td>\n",
       "      <td>...</td>\n",
       "      <td>...</td>\n",
       "      <td>...</td>\n",
       "      <td>...</td>\n",
       "      <td>...</td>\n",
       "      <td>...</td>\n",
       "      <td>...</td>\n",
       "      <td>...</td>\n",
       "      <td>...</td>\n",
       "      <td>...</td>\n",
       "      <td>...</td>\n",
       "      <td>...</td>\n",
       "      <td>...</td>\n",
       "      <td>...</td>\n",
       "      <td>...</td>\n",
       "      <td>...</td>\n",
       "      <td>...</td>\n",
       "      <td>...</td>\n",
       "      <td>...</td>\n",
       "    </tr>\n",
       "    <tr>\n",
       "      <th>5451</th>\n",
       "      <td>User 5452</td>\n",
       "      <td>0.91</td>\n",
       "      <td>5.00</td>\n",
       "      <td>4.00</td>\n",
       "      <td>2.79</td>\n",
       "      <td>2.77</td>\n",
       "      <td>2.57</td>\n",
       "      <td>2.43</td>\n",
       "      <td>1.09</td>\n",
       "      <td>1.77</td>\n",
       "      <td>...</td>\n",
       "      <td>0.66</td>\n",
       "      <td>0.65</td>\n",
       "      <td>0.66</td>\n",
       "      <td>0.69</td>\n",
       "      <td>5.00</td>\n",
       "      <td>1.05</td>\n",
       "      <td>5.0</td>\n",
       "      <td>5.0</td>\n",
       "      <td>1.56</td>\n",
       "      <td>NaN</td>\n",
       "    </tr>\n",
       "    <tr>\n",
       "      <th>5452</th>\n",
       "      <td>User 5453</td>\n",
       "      <td>0.93</td>\n",
       "      <td>5.00</td>\n",
       "      <td>4.02</td>\n",
       "      <td>2.79</td>\n",
       "      <td>2.78</td>\n",
       "      <td>2.57</td>\n",
       "      <td>1.77</td>\n",
       "      <td>1.07</td>\n",
       "      <td>1.76</td>\n",
       "      <td>...</td>\n",
       "      <td>0.65</td>\n",
       "      <td>0.64</td>\n",
       "      <td>0.65</td>\n",
       "      <td>1.59</td>\n",
       "      <td>1.62</td>\n",
       "      <td>1.06</td>\n",
       "      <td>5.0</td>\n",
       "      <td>5.0</td>\n",
       "      <td>1.09</td>\n",
       "      <td>NaN</td>\n",
       "    </tr>\n",
       "    <tr>\n",
       "      <th>5453</th>\n",
       "      <td>User 5454</td>\n",
       "      <td>0.94</td>\n",
       "      <td>5.00</td>\n",
       "      <td>4.03</td>\n",
       "      <td>2.80</td>\n",
       "      <td>2.78</td>\n",
       "      <td>2.57</td>\n",
       "      <td>1.75</td>\n",
       "      <td>1.05</td>\n",
       "      <td>1.75</td>\n",
       "      <td>...</td>\n",
       "      <td>0.65</td>\n",
       "      <td>0.63</td>\n",
       "      <td>0.64</td>\n",
       "      <td>0.74</td>\n",
       "      <td>5.00</td>\n",
       "      <td>1.07</td>\n",
       "      <td>5.0</td>\n",
       "      <td>5.0</td>\n",
       "      <td>1.11</td>\n",
       "      <td>NaN</td>\n",
       "    </tr>\n",
       "    <tr>\n",
       "      <th>5454</th>\n",
       "      <td>User 5455</td>\n",
       "      <td>0.95</td>\n",
       "      <td>4.05</td>\n",
       "      <td>4.05</td>\n",
       "      <td>2.81</td>\n",
       "      <td>2.79</td>\n",
       "      <td>2.44</td>\n",
       "      <td>1.76</td>\n",
       "      <td>1.03</td>\n",
       "      <td>1.74</td>\n",
       "      <td>...</td>\n",
       "      <td>0.64</td>\n",
       "      <td>0.63</td>\n",
       "      <td>0.64</td>\n",
       "      <td>0.75</td>\n",
       "      <td>5.00</td>\n",
       "      <td>1.08</td>\n",
       "      <td>5.0</td>\n",
       "      <td>5.0</td>\n",
       "      <td>1.12</td>\n",
       "      <td>NaN</td>\n",
       "    </tr>\n",
       "    <tr>\n",
       "      <th>5455</th>\n",
       "      <td>User 5456</td>\n",
       "      <td>0.95</td>\n",
       "      <td>4.07</td>\n",
       "      <td>5.00</td>\n",
       "      <td>2.82</td>\n",
       "      <td>2.80</td>\n",
       "      <td>2.57</td>\n",
       "      <td>2.42</td>\n",
       "      <td>1.02</td>\n",
       "      <td>1.74</td>\n",
       "      <td>...</td>\n",
       "      <td>0.64</td>\n",
       "      <td>0.62</td>\n",
       "      <td>0.63</td>\n",
       "      <td>0.78</td>\n",
       "      <td>5.00</td>\n",
       "      <td>1.08</td>\n",
       "      <td>5.0</td>\n",
       "      <td>5.0</td>\n",
       "      <td>1.17</td>\n",
       "      <td>NaN</td>\n",
       "    </tr>\n",
       "  </tbody>\n",
       "</table>\n",
       "<p>5456 rows × 26 columns</p>\n",
       "</div>"
      ],
      "text/plain": [
       "           User  Category 1  Category 2  Category 3  Category 4  Category 5  \\\n",
       "0        User 1        0.00        0.00        3.63        3.65        5.00   \n",
       "1        User 2        0.00        0.00        3.63        3.65        5.00   \n",
       "2        User 3        0.00        0.00        3.63        3.63        5.00   \n",
       "3        User 4        0.00        0.50        3.63        3.63        5.00   \n",
       "4        User 5        0.00        0.00        3.63        3.63        5.00   \n",
       "...         ...         ...         ...         ...         ...         ...   \n",
       "5451  User 5452        0.91        5.00        4.00        2.79        2.77   \n",
       "5452  User 5453        0.93        5.00        4.02        2.79        2.78   \n",
       "5453  User 5454        0.94        5.00        4.03        2.80        2.78   \n",
       "5454  User 5455        0.95        4.05        4.05        2.81        2.79   \n",
       "5455  User 5456        0.95        4.07        5.00        2.82        2.80   \n",
       "\n",
       "      Category 6  Category 7  Category 8  Category 9  ...  Category 16  \\\n",
       "0           2.92        5.00        2.35        2.33  ...         0.59   \n",
       "1           2.92        5.00        2.64        2.33  ...         0.59   \n",
       "2           2.92        5.00        2.64        2.33  ...         0.59   \n",
       "3           2.92        5.00        2.35        2.33  ...         0.59   \n",
       "4           2.92        5.00        2.64        2.33  ...         0.59   \n",
       "...          ...         ...         ...         ...  ...          ...   \n",
       "5451        2.57        2.43        1.09        1.77  ...         0.66   \n",
       "5452        2.57        1.77        1.07        1.76  ...         0.65   \n",
       "5453        2.57        1.75        1.05        1.75  ...         0.65   \n",
       "5454        2.44        1.76        1.03        1.74  ...         0.64   \n",
       "5455        2.57        2.42        1.02        1.74  ...         0.64   \n",
       "\n",
       "     Category 17  Category 18  Category 19  Category 20  Category 21  \\\n",
       "0           0.50         0.00         0.50         0.00         0.00   \n",
       "1           0.50         0.00         0.50         0.00         0.00   \n",
       "2           0.50         0.00         0.50         0.00         0.00   \n",
       "3           0.50         0.00         0.50         0.00         0.00   \n",
       "4           0.50         0.00         0.50         0.00         0.00   \n",
       "...          ...          ...          ...          ...          ...   \n",
       "5451        0.65         0.66         0.69         5.00         1.05   \n",
       "5452        0.64         0.65         1.59         1.62         1.06   \n",
       "5453        0.63         0.64         0.74         5.00         1.07   \n",
       "5454        0.63         0.64         0.75         5.00         1.08   \n",
       "5455        0.62         0.63         0.78         5.00         1.08   \n",
       "\n",
       "      Category 22  Category 23  Category 24  Unnamed: 25  \n",
       "0             0.0          0.0         0.00          NaN  \n",
       "1             0.0          0.0         0.00          NaN  \n",
       "2             0.0          0.0         0.00          NaN  \n",
       "3             0.0          0.0         0.00          NaN  \n",
       "4             0.0          0.0         0.00          NaN  \n",
       "...           ...          ...          ...          ...  \n",
       "5451          5.0          5.0         1.56          NaN  \n",
       "5452          5.0          5.0         1.09          NaN  \n",
       "5453          5.0          5.0         1.11          NaN  \n",
       "5454          5.0          5.0         1.12          NaN  \n",
       "5455          5.0          5.0         1.17          NaN  \n",
       "\n",
       "[5456 rows x 26 columns]"
      ]
     },
     "execution_count": 54,
     "metadata": {},
     "output_type": "execute_result"
    }
   ],
   "source": [
    "df"
   ]
  },
  {
   "cell_type": "code",
   "execution_count": 55,
   "metadata": {},
   "outputs": [
    {
     "data": {
      "text/plain": [
       "Index(['User', 'Category 1', 'Category 2', 'Category 3', 'Category 4',\n",
       "       'Category 5', 'Category 6', 'Category 7', 'Category 8', 'Category 9',\n",
       "       'Category 10', 'Category 11', 'Category 12', 'Category 13',\n",
       "       'Category 14', 'Category 15', 'Category 16', 'Category 17',\n",
       "       'Category 18', 'Category 19', 'Category 20', 'Category 21',\n",
       "       'Category 22', 'Category 23', 'Category 24', 'Unnamed: 25'],\n",
       "      dtype='object')"
      ]
     },
     "execution_count": 55,
     "metadata": {},
     "output_type": "execute_result"
    }
   ],
   "source": [
    "df.columns"
   ]
  },
  {
   "cell_type": "code",
   "execution_count": 56,
   "metadata": {},
   "outputs": [],
   "source": [
    "df.drop(['User','Unnamed: 25'],axis=1, inplace= True)"
   ]
  },
  {
   "cell_type": "code",
   "execution_count": 57,
   "metadata": {},
   "outputs": [
    {
     "name": "stdout",
     "output_type": "stream",
     "text": [
      "<class 'pandas.core.frame.DataFrame'>\n",
      "RangeIndex: 5456 entries, 0 to 5455\n",
      "Data columns (total 24 columns):\n",
      " #   Column       Non-Null Count  Dtype  \n",
      "---  ------       --------------  -----  \n",
      " 0   Category 1   5456 non-null   float64\n",
      " 1   Category 2   5456 non-null   float64\n",
      " 2   Category 3   5456 non-null   float64\n",
      " 3   Category 4   5456 non-null   float64\n",
      " 4   Category 5   5456 non-null   float64\n",
      " 5   Category 6   5456 non-null   float64\n",
      " 6   Category 7   5456 non-null   float64\n",
      " 7   Category 8   5456 non-null   float64\n",
      " 8   Category 9   5456 non-null   float64\n",
      " 9   Category 10  5456 non-null   float64\n",
      " 10  Category 11  5456 non-null   object \n",
      " 11  Category 12  5455 non-null   float64\n",
      " 12  Category 13  5456 non-null   float64\n",
      " 13  Category 14  5456 non-null   float64\n",
      " 14  Category 15  5456 non-null   float64\n",
      " 15  Category 16  5456 non-null   float64\n",
      " 16  Category 17  5456 non-null   float64\n",
      " 17  Category 18  5456 non-null   float64\n",
      " 18  Category 19  5456 non-null   float64\n",
      " 19  Category 20  5456 non-null   float64\n",
      " 20  Category 21  5456 non-null   float64\n",
      " 21  Category 22  5456 non-null   float64\n",
      " 22  Category 23  5456 non-null   float64\n",
      " 23  Category 24  5455 non-null   float64\n",
      "dtypes: float64(23), object(1)\n",
      "memory usage: 1023.1+ KB\n"
     ]
    }
   ],
   "source": [
    "df.info()"
   ]
  },
  {
   "cell_type": "code",
   "execution_count": 58,
   "metadata": {},
   "outputs": [
    {
     "data": {
      "text/plain": [
       "[RangeIndex(start=0, stop=5456, step=1),\n",
       " Index(['Category 1', 'Category 2', 'Category 3', 'Category 4', 'Category 5',\n",
       "        'Category 6', 'Category 7', 'Category 8', 'Category 9', 'Category 10',\n",
       "        'Category 11', 'Category 12', 'Category 13', 'Category 14',\n",
       "        'Category 15', 'Category 16', 'Category 17', 'Category 18',\n",
       "        'Category 19', 'Category 20', 'Category 21', 'Category 22',\n",
       "        'Category 23', 'Category 24'],\n",
       "       dtype='object')]"
      ]
     },
     "execution_count": 58,
     "metadata": {},
     "output_type": "execute_result"
    }
   ],
   "source": [
    "\n",
    "df.axes"
   ]
  },
  {
   "cell_type": "code",
   "execution_count": 59,
   "metadata": {},
   "outputs": [
    {
     "data": {
      "text/plain": [
       "RangeIndex(start=0, stop=5456, step=1)"
      ]
     },
     "execution_count": 59,
     "metadata": {},
     "output_type": "execute_result"
    }
   ],
   "source": [
    "df.index"
   ]
  },
  {
   "cell_type": "code",
   "execution_count": 60,
   "metadata": {},
   "outputs": [
    {
     "data": {
      "text/plain": [
       "Category 1     float64\n",
       "Category 2     float64\n",
       "Category 3     float64\n",
       "Category 4     float64\n",
       "Category 5     float64\n",
       "Category 6     float64\n",
       "Category 7     float64\n",
       "Category 8     float64\n",
       "Category 9     float64\n",
       "Category 10    float64\n",
       "Category 11     object\n",
       "Category 12    float64\n",
       "Category 13    float64\n",
       "Category 14    float64\n",
       "Category 15    float64\n",
       "Category 16    float64\n",
       "Category 17    float64\n",
       "Category 18    float64\n",
       "Category 19    float64\n",
       "Category 20    float64\n",
       "Category 21    float64\n",
       "Category 22    float64\n",
       "Category 23    float64\n",
       "Category 24    float64\n",
       "dtype: object"
      ]
     },
     "execution_count": 60,
     "metadata": {},
     "output_type": "execute_result"
    }
   ],
   "source": [
    "df.dtypes"
   ]
  },
  {
   "cell_type": "code",
   "execution_count": 61,
   "metadata": {},
   "outputs": [
    {
     "data": {
      "text/plain": [
       "Category 1     0\n",
       "Category 2     0\n",
       "Category 3     0\n",
       "Category 4     0\n",
       "Category 5     0\n",
       "Category 6     0\n",
       "Category 7     0\n",
       "Category 8     0\n",
       "Category 9     0\n",
       "Category 10    0\n",
       "Category 11    0\n",
       "Category 12    1\n",
       "Category 13    0\n",
       "Category 14    0\n",
       "Category 15    0\n",
       "Category 16    0\n",
       "Category 17    0\n",
       "Category 18    0\n",
       "Category 19    0\n",
       "Category 20    0\n",
       "Category 21    0\n",
       "Category 22    0\n",
       "Category 23    0\n",
       "Category 24    1\n",
       "dtype: int64"
      ]
     },
     "execution_count": 61,
     "metadata": {},
     "output_type": "execute_result"
    }
   ],
   "source": [
    "df.isnull().sum()"
   ]
  },
  {
   "cell_type": "code",
   "execution_count": 62,
   "metadata": {},
   "outputs": [],
   "source": [
    " df.rename(columns= {'Category 1': 'church_rating','Category 2':'resorts_rating','Category 3': 'beaches_rating','Category 4':'parks_rating','Category 5':'theatres_rating','Category 6':'museums_rating','Category 7':'malls_rating','Category 8':'zoo_rating',\n",
    "                     'Category 9':'restaurants_rating','Category 10':'pubsorbars_rating','Category 11':'localservices_rating','Category 12':'burgerorpizza_shops_rating','Category 13':'hotels_otherlodgings_rating','Category 14':'juice bars_rating','Category 15':'art galleries_rating','Category 16':'dance clubs_rating','Category 17':'swimming pools_rating','Category 18':'gyms_rating','Category 19':'bakeries_rating','Category 20':\n",
    "                     'beauty & spas_rating','Category 21':'cafes_rating','Category 22':'viewpoints_rating','Category 23':'monuments_rating','Category 24':'garden_rating'}, inplace=True)"
   ]
  },
  {
   "cell_type": "code",
   "execution_count": 63,
   "metadata": {},
   "outputs": [],
   "source": [
    "df.dropna(inplace=True)"
   ]
  },
  {
   "cell_type": "code",
   "execution_count": 64,
   "metadata": {},
   "outputs": [],
   "source": [
    "from sklearn.cluster import AgglomerativeClustering"
   ]
  },
  {
   "cell_type": "code",
   "execution_count": 65,
   "metadata": {},
   "outputs": [],
   "source": [
    "agg= AgglomerativeClustering()"
   ]
  },
  {
   "cell_type": "code",
   "execution_count": 67,
   "metadata": {},
   "outputs": [],
   "source": [
    "df['localservices_rating']= df['localservices_rating'].astype(float)"
   ]
  },
  {
   "cell_type": "code",
   "execution_count": 68,
   "metadata": {},
   "outputs": [
    {
     "data": {
      "text/plain": [
       "281"
      ]
     },
     "execution_count": 68,
     "metadata": {},
     "output_type": "execute_result"
    }
   ],
   "source": [
    "\n",
    "df['church_rating'].nunique()"
   ]
  },
  {
   "cell_type": "code",
   "execution_count": 69,
   "metadata": {},
   "outputs": [
    {
     "data": {
      "text/plain": [
       "AgglomerativeClustering()"
      ]
     },
     "execution_count": 69,
     "metadata": {},
     "output_type": "execute_result"
    }
   ],
   "source": [
    "agg.fit(df)"
   ]
  },
  {
   "cell_type": "code",
   "execution_count": 70,
   "metadata": {},
   "outputs": [
    {
     "data": {
      "text/plain": [
       "'euclidean'"
      ]
     },
     "execution_count": 70,
     "metadata": {},
     "output_type": "execute_result"
    }
   ],
   "source": [
    "agg.affinity"
   ]
  },
  {
   "cell_type": "code",
   "execution_count": 71,
   "metadata": {},
   "outputs": [
    {
     "data": {
      "text/plain": [
       "array([[    2,     4],\n",
       "       [ 1338,  1346],\n",
       "       [  670,   674],\n",
       "       ...,\n",
       "       [10889, 10902],\n",
       "       [10899, 10903],\n",
       "       [10904, 10905]], dtype=int64)"
      ]
     },
     "execution_count": 71,
     "metadata": {},
     "output_type": "execute_result"
    }
   ],
   "source": [
    "agg.children_"
   ]
  },
  {
   "cell_type": "code",
   "execution_count": 72,
   "metadata": {},
   "outputs": [
    {
     "data": {
      "text/plain": [
       "False"
      ]
     },
     "execution_count": 72,
     "metadata": {},
     "output_type": "execute_result"
    }
   ],
   "source": [
    "agg.compute_distances"
   ]
  },
  {
   "cell_type": "code",
   "execution_count": 73,
   "metadata": {},
   "outputs": [
    {
     "data": {
      "text/plain": [
       "array([0, 0, 0, ..., 0, 0, 0], dtype=int64)"
      ]
     },
     "execution_count": 73,
     "metadata": {},
     "output_type": "execute_result"
    }
   ],
   "source": [
    "agg.labels_"
   ]
  },
  {
   "cell_type": "code",
   "execution_count": 78,
   "metadata": {},
   "outputs": [
    {
     "data": {
      "image/png": "[encoded data removed]",
      "text/plain": [
       "<Figure size 720x504 with 1 Axes>"
      ]
     },
     "metadata": {
      "needs_background": "light"
     },
     "output_type": "display_data"
    }
   ],
   "source": [
    "import matplotlib.pyplot as plt\n",
    "import scipy.cluster.hierarchy as shc\n",
    "plt.figure(figsize=(10, 7))  \n",
    "plt.title(\"Dendrograms\")  \n",
    "dend = shc.dendrogram(shc.linkage(df, method='ward'))"
   ]
  },
  {
   "cell_type": "code",
   "execution_count": 75,
   "metadata": {},
   "outputs": [
    {
     "data": {
      "text/plain": [
       "array([0, 0, 0, ..., 2, 2, 2], dtype=int64)"
      ]
     },
     "execution_count": 75,
     "metadata": {},
     "output_type": "execute_result"
    }
   ],
   "source": [
    "from sklearn.cluster import AgglomerativeClustering\n",
    "cluster = AgglomerativeClustering(n_clusters=4, affinity='euclidean', linkage='ward')  \n",
    "cluster.fit_predict(df)"
   ]
  },
  {
   "cell_type": "code",
   "execution_count": 76,
   "metadata": {},
   "outputs": [
    {
     "data": {
      "text/plain": [
       "Index(['church_rating', 'resorts_rating', 'beaches_rating', 'parks_rating',\n",
       "       'theatres_rating', 'museums_rating', 'malls_rating', 'zoo_rating',\n",
       "       'restaurants_rating', 'pubsorbars_rating', 'localservices_rating',\n",
       "       'burgerorpizza_shops_rating', 'hotels_otherlodgings_rating',\n",
       "       'juice bars_rating', 'art galleries_rating', 'dance clubs_rating',\n",
       "       'swimming pools_rating', 'gyms_rating', 'bakeries_rating',\n",
       "       'beauty & spas_rating', 'cafes_rating', 'viewpoints_rating',\n",
       "       'monuments_rating', 'garden_rating'],\n",
       "      dtype='object')"
      ]
     },
     "execution_count": 76,
     "metadata": {},
     "output_type": "execute_result"
    }
   ],
   "source": [
    "df.columns"
   ]
  },
  {
   "cell_type": "code",
   "execution_count": 77,
   "metadata": {},
   "outputs": [
    {
     "data": {
      "text/plain": [
       "<matplotlib.collections.PathCollection at 0x20c85d36b50>"
      ]
     },
     "execution_count": 77,
     "metadata": {},
     "output_type": "execute_result"
    },
    {
     "data": {
      "image/png": "[encoded data removed]",
      "text/plain": [
       "<Figure size 720x504 with 1 Axes>"
      ]
     },
     "metadata": {
      "needs_background": "light"
     },
     "output_type": "display_data"
    }
   ],
   "source": [
    "import matplotlib.pyplot as plt\n",
    "plt.figure(figsize=(10, 7))  \n",
    "plt.scatter(df['monuments_rating'], df['garden_rating'], c=cluster.labels_) "
   ]
  },
  {
   "cell_type": "code",
   "execution_count": null,
   "metadata": {},
   "outputs": [],
   "source": [
    "plt.figure(figsize=(10, 7))  \n",
    "plt.title(\"Dendrograms\")  \n",
    "dend = shc.dendrogram(shc.linkage(data_scaled, method='ward'))\n",
    "plt.axhline(y=6, color='r', linestyle='--')"
   ]
  },
  {
   "cell_type": "code",
   "execution_count": null,
   "metadata": {},
   "outputs": [],
   "source": [
    "from sklearn.cluster import AgglomerativeClustering\n",
    "cluster = AgglomerativeClustering(n_clusters=8, affinity='euclidean', linkage='ward')  \n",
    "cluster.fit_predict(df)"
   ]
  },
  {
   "cell_type": "code",
   "execution_count": null,
   "metadata": {},
   "outputs": [],
   "source": [
    "from sklearn.preprocessing import normalize\n",
    "data_scaled = normalize(data)\n",
    "data_scaled = pd.DataFrame(data_scaled, columns=data.columns)\n",
    "data_scaled.head()"
   ]
  }
 ],
 "metadata": {
  "kernelspec": {
   "display_name": "Python 3",
   "language": "python",
   "name": "python3"
  },
  "language_info": {
   "codemirror_mode": {
    "name": "ipython",
    "version": 3
   },
   "file_extension": ".py",
   "mimetype": "text/x-python",
   "name": "python",
   "nbconvert_exporter": "python",
   "pygments_lexer": "ipython3",
   "version": "3.8.5"
  }
 },
 "nbformat": 4,
 "nbformat_minor": 4
}
